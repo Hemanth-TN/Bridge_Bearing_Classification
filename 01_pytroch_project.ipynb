{
 "cells": [
  {
   "cell_type": "code",
   "execution_count": 1,
   "id": "4ad6c63c",
   "metadata": {},
   "outputs": [],
   "source": [
    "import torch\n",
    "from pathlib import Path\n",
    "import os"
   ]
  },
  {
   "cell_type": "code",
   "execution_count": 2,
   "id": "35c14aae",
   "metadata": {},
   "outputs": [],
   "source": [
    "from src.preprocessing import preprocess_data"
   ]
  },
  {
   "cell_type": "code",
   "execution_count": 3,
   "id": "39d45c64",
   "metadata": {},
   "outputs": [
    {
     "name": "stdout",
     "output_type": "stream",
     "text": [
      "There are 2 directories and 0 images in 'data_augmented_2'.\n",
      "There are 4 directories and 0 images in 'data_augmented_2\\Test_300x300'.\n",
      "There are 0 directories and 13 images in 'data_augmented_2\\Test_300x300\\1'.\n",
      "There are 0 directories and 23 images in 'data_augmented_2\\Test_300x300\\2'.\n",
      "There are 0 directories and 50 images in 'data_augmented_2\\Test_300x300\\3'.\n",
      "There are 0 directories and 9 images in 'data_augmented_2\\Test_300x300\\4'.\n",
      "There are 4 directories and 0 images in 'data_augmented_2\\Train_300x300'.\n",
      "There are 0 directories and 1488 images in 'data_augmented_2\\Train_300x300\\1'.\n",
      "There are 0 directories and 1290 images in 'data_augmented_2\\Train_300x300\\2'.\n",
      "There are 0 directories and 1350 images in 'data_augmented_2\\Train_300x300\\3'.\n",
      "There are 0 directories and 1350 images in 'data_augmented_2\\Train_300x300\\4'.\n"
     ]
    }
   ],
   "source": [
    "data_path = Path(\"data_augmented_2\")\n",
    "preprocess_data.walk_through_dir(data_path)"
   ]
  },
  {
   "cell_type": "code",
   "execution_count": 4,
   "id": "8e908b04",
   "metadata": {},
   "outputs": [],
   "source": [
    "# data augmentation\n",
    "from src.preprocessing.preprocess_data import augment_data_2\n",
    "\n",
    "# augment_data_2()"
   ]
  },
  {
   "cell_type": "code",
   "execution_count": 5,
   "id": "4f4397ff",
   "metadata": {},
   "outputs": [
    {
     "name": "stdout",
     "output_type": "stream",
     "text": [
      "1 - 496 Samples\n",
      "2 - 430 Samples\n",
      "3 - 450 Samples\n",
      "4 - 450 Samples\n"
     ]
    }
   ],
   "source": [
    "for cl in ['1','2','3','4']:\n",
    "    fs = os.listdir(Path(\"data_augmented\")/\"Train_300x300\"/cl)\n",
    "    print(f\"{cl} - {len(fs)} Samples\")"
   ]
  },
  {
   "cell_type": "markdown",
   "id": "0dc40e5e",
   "metadata": {},
   "source": [
    "### information on data annotation\n",
    "1 - Good ;\n",
    "2 - Fair ;\n",
    "3 - Poor ;\n",
    "4 - Severe ;"
   ]
  },
  {
   "cell_type": "code",
   "execution_count": 6,
   "id": "397c3819",
   "metadata": {},
   "outputs": [],
   "source": [
    "# total Test images -> 13+23+50+9 = 95\n",
    "# Total Train images -> 124+215+450+90 = 879"
   ]
  },
  {
   "cell_type": "code",
   "execution_count": 7,
   "id": "28bdd2a1",
   "metadata": {},
   "outputs": [
    {
     "name": "stdout",
     "output_type": "stream",
     "text": [
      "Epoch: 0 | Train accuracy: 0.7564 | Train Loss: 0.6231 | Train F1 Score Weighted: 0.752 | Valid accuracy: 0.9124 | Valid Loss: 0.2766 | Valid F1 Score Weighted: 0.909\n",
      "Epoch: 1 | Train accuracy: 0.9245 | Train Loss: 0.2272 | Train F1 Score Weighted: 0.923 | Valid accuracy: 0.9580 | Valid Loss: 0.1122 | Valid F1 Score Weighted: 0.957\n",
      "Epoch: 2 | Train accuracy: 0.9606 | Train Loss: 0.1201 | Train F1 Score Weighted: 0.960 | Valid accuracy: 0.9653 | Valid Loss: 0.1141 | Valid F1 Score Weighted: 0.964\n",
      "Epoch: 3 | Train accuracy: 0.9611 | Train Loss: 0.1108 | Train F1 Score Weighted: 0.960 | Valid accuracy: 0.9580 | Valid Loss: 0.1117 | Valid F1 Score Weighted: 0.956\n",
      "Epoch: 4 | Train accuracy: 0.9746 | Train Loss: 0.0849 | Train F1 Score Weighted: 0.974 | Valid accuracy: 0.9781 | Valid Loss: 0.0656 | Valid F1 Score Weighted: 0.978\n",
      "Epoch: 5 | Train accuracy: 0.9769 | Train Loss: 0.0950 | Train F1 Score Weighted: 0.977 | Valid accuracy: 0.9745 | Valid Loss: 0.0566 | Valid F1 Score Weighted: 0.974\n",
      "Epoch: 6 | Train accuracy: 0.9736 | Train Loss: 0.0927 | Train F1 Score Weighted: 0.974 | Valid accuracy: 0.9745 | Valid Loss: 0.0753 | Valid F1 Score Weighted: 0.974\n",
      "Epoch: 7 | Train accuracy: 0.9708 | Train Loss: 0.0798 | Train F1 Score Weighted: 0.970 | Valid accuracy: 0.9763 | Valid Loss: 0.0561 | Valid F1 Score Weighted: 0.976\n",
      "Epoch: 8 | Train accuracy: 0.9909 | Train Loss: 0.0326 | Train F1 Score Weighted: 0.991 | Valid accuracy: 0.9726 | Valid Loss: 0.0531 | Valid F1 Score Weighted: 0.971\n",
      "Epoch: 9 | Train accuracy: 0.9803 | Train Loss: 0.0753 | Train F1 Score Weighted: 0.980 | Valid accuracy: 0.9854 | Valid Loss: 0.0540 | Valid F1 Score Weighted: 0.985\n"
     ]
    }
   ],
   "source": [
    "#setting up the loss functions and optimizers\n",
    "from torch import nn\n",
    "from src.models.models import train_model\n",
    "from src.models.models import get_efficientnet_b0_model\n",
    "from src.preprocessing.transforms_data import data_transformations\n",
    "from pathlib import Path\n",
    "import torch\n",
    "\n",
    "model_b0_adam, model_b0_transforms = get_efficientnet_b0_model()\n",
    "\n",
    "train_dir = Path(\"data_augmented_2\") / \"Train_300x300\"\n",
    "test_dir = Path(\"data_augmented_2\") / \"Test_300x300\"\n",
    "data = data_transformations(train_dir=train_dir, test_dir=test_dir, model_transforms=model_b0_transforms)\n",
    "train_dataloader, valid_dataloader, test_dataloader_b0 = data.get_dataloaders()\n",
    "\n",
    "weights = data.get_class_weights_inverse_train()\n",
    "device = 'cuda' if torch.cuda.is_available() else 'cpu'\n",
    "loss_fn = nn.CrossEntropyLoss(weight=weights).to(device)\n",
    "optimizer = torch.optim.Adam(params=model_b0_adam.parameters(),lr=0.001, weight_decay=1e-4)\n",
    "model_name = \"efficientnet_b0\"\n",
    "optimizer_name = \"Adam\"\n",
    "results_1= train_model(model_b0_adam, loss_fn, optimizer, train_dataloader, valid_dataloader, device,experiment_name=f'{model_name}_{optimizer_name}', epochs=10)"
   ]
  },
  {
   "cell_type": "code",
   "execution_count": 8,
   "id": "8547d01a",
   "metadata": {},
   "outputs": [
    {
     "name": "stdout",
     "output_type": "stream",
     "text": [
      "Epoch: 0 | Train accuracy: 0.6704 | Train Loss: 0.7924 | Train F1 Score Weighted: 0.665 | Valid accuracy: 0.7555 | Valid Loss: 0.5976 | Valid F1 Score Weighted: 0.729\n",
      "Epoch: 1 | Train accuracy: 0.8432 | Train Loss: 0.4377 | Train F1 Score Weighted: 0.841 | Valid accuracy: 0.8540 | Valid Loss: 0.4201 | Valid F1 Score Weighted: 0.844\n",
      "Epoch: 2 | Train accuracy: 0.9144 | Train Loss: 0.2437 | Train F1 Score Weighted: 0.913 | Valid accuracy: 0.9489 | Valid Loss: 0.1624 | Valid F1 Score Weighted: 0.945\n",
      "Epoch: 3 | Train accuracy: 0.9483 | Train Loss: 0.1569 | Train F1 Score Weighted: 0.947 | Valid accuracy: 0.8613 | Valid Loss: 0.5347 | Valid F1 Score Weighted: 0.856\n",
      "Epoch: 4 | Train accuracy: 0.9606 | Train Loss: 0.1331 | Train F1 Score Weighted: 0.960 | Valid accuracy: 0.8540 | Valid Loss: 0.5167 | Valid F1 Score Weighted: 0.851\n",
      "Epoch: 5 | Train accuracy: 0.9560 | Train Loss: 0.1333 | Train F1 Score Weighted: 0.956 | Valid accuracy: 0.9453 | Valid Loss: 0.1595 | Valid F1 Score Weighted: 0.944\n",
      "Epoch: 6 | Train accuracy: 0.9728 | Train Loss: 0.0870 | Train F1 Score Weighted: 0.972 | Valid accuracy: 0.9507 | Valid Loss: 0.1592 | Valid F1 Score Weighted: 0.949\n",
      "Epoch: 7 | Train accuracy: 0.9769 | Train Loss: 0.0805 | Train F1 Score Weighted: 0.977 | Valid accuracy: 0.8668 | Valid Loss: 0.4683 | Valid F1 Score Weighted: 0.862\n",
      "Epoch: 8 | Train accuracy: 0.9787 | Train Loss: 0.0850 | Train F1 Score Weighted: 0.978 | Valid accuracy: 0.9161 | Valid Loss: 0.2617 | Valid F1 Score Weighted: 0.917\n",
      "Epoch: 9 | Train accuracy: 0.9817 | Train Loss: 0.0584 | Train F1 Score Weighted: 0.982 | Valid accuracy: 0.9854 | Valid Loss: 0.0598 | Valid F1 Score Weighted: 0.985\n"
     ]
    }
   ],
   "source": [
    "#setting up the loss functions and optimizers\n",
    "from torch import nn\n",
    "from src.models.models import train_model\n",
    "from src.models.models import get_efficientnet_b0_model\n",
    "from src.preprocessing.transforms_data import data_transformations\n",
    "from pathlib import Path\n",
    "import torch\n",
    "\n",
    "model_b0_sgd, model_b0_transforms = get_efficientnet_b0_model()\n",
    "\n",
    "train_dir = Path(\"data_augmented_2\") / \"Train_300x300\"\n",
    "test_dir = Path(\"data_augmented_2\") / \"Test_300x300\"\n",
    "data = data_transformations(train_dir=train_dir, test_dir=test_dir, model_transforms=model_b0_transforms)\n",
    "train_dataloader, valid_dataloader, test_dataloader_b0 = data.get_dataloaders()\n",
    "\n",
    "device = 'cuda' if torch.cuda.is_available() else 'cpu'\n",
    "weights = data.get_class_weights_inverse_train()\n",
    "loss_fn = nn.CrossEntropyLoss(weight=weights).to(device)\n",
    "optimizer = torch.optim.SGD(params=model_b0_sgd.parameters(),lr=0.1, weight_decay=1e-4)\n",
    "model_name = \"efficientnet_b0\"\n",
    "optimizer_name = \"SGD\"\n",
    "results_1 = train_model(model_b0_sgd, loss_fn, optimizer, train_dataloader, valid_dataloader, device,experiment_name=f'{model_name}_{optimizer_name}', epochs=10)"
   ]
  },
  {
   "cell_type": "code",
   "execution_count": 9,
   "id": "dfa4cd9a",
   "metadata": {},
   "outputs": [
    {
     "name": "stdout",
     "output_type": "stream",
     "text": [
      "Epoch: 0 | Train accuracy: 0.7379 | Train Loss: 0.6666 | Train F1 Score Weighted: 0.734 | Valid accuracy: 0.8960 | Valid Loss: 0.3013 | Valid F1 Score Weighted: 0.892\n",
      "Epoch: 1 | Train accuracy: 0.8996 | Train Loss: 0.2763 | Train F1 Score Weighted: 0.899 | Valid accuracy: 0.9507 | Valid Loss: 0.1881 | Valid F1 Score Weighted: 0.947\n",
      "Epoch: 2 | Train accuracy: 0.9477 | Train Loss: 0.1668 | Train F1 Score Weighted: 0.947 | Valid accuracy: 0.9708 | Valid Loss: 0.1183 | Valid F1 Score Weighted: 0.969\n",
      "Epoch: 3 | Train accuracy: 0.9546 | Train Loss: 0.1299 | Train F1 Score Weighted: 0.954 | Valid accuracy: 0.9799 | Valid Loss: 0.0771 | Valid F1 Score Weighted: 0.978\n",
      "Epoch: 4 | Train accuracy: 0.9696 | Train Loss: 0.0951 | Train F1 Score Weighted: 0.969 | Valid accuracy: 0.9745 | Valid Loss: 0.0684 | Valid F1 Score Weighted: 0.973\n",
      "Epoch: 5 | Train accuracy: 0.9661 | Train Loss: 0.1251 | Train F1 Score Weighted: 0.966 | Valid accuracy: 0.9818 | Valid Loss: 0.0667 | Valid F1 Score Weighted: 0.981\n",
      "Epoch: 6 | Train accuracy: 0.9736 | Train Loss: 0.0788 | Train F1 Score Weighted: 0.973 | Valid accuracy: 0.9818 | Valid Loss: 0.0646 | Valid F1 Score Weighted: 0.980\n",
      "Epoch: 7 | Train accuracy: 0.9811 | Train Loss: 0.0534 | Train F1 Score Weighted: 0.981 | Valid accuracy: 0.9927 | Valid Loss: 0.0249 | Valid F1 Score Weighted: 0.992\n",
      "Epoch: 8 | Train accuracy: 0.9815 | Train Loss: 0.0862 | Train F1 Score Weighted: 0.981 | Valid accuracy: 0.9927 | Valid Loss: 0.0327 | Valid F1 Score Weighted: 0.993\n",
      "Epoch: 9 | Train accuracy: 0.9708 | Train Loss: 0.0894 | Train F1 Score Weighted: 0.971 | Valid accuracy: 0.9854 | Valid Loss: 0.0353 | Valid F1 Score Weighted: 0.985\n"
     ]
    }
   ],
   "source": [
    "#setting up the loss functions and optimizers\n",
    "from torch import nn\n",
    "from src.models.models import train_model\n",
    "from src.models.models import get_efficientnet_b1_model\n",
    "from src.preprocessing.transforms_data import data_transformations\n",
    "from pathlib import Path\n",
    "import torch\n",
    "\n",
    "model_b1_adam, model_b1_transforms = get_efficientnet_b1_model()\n",
    "\n",
    "train_dir = Path(\"data_augmented_2\") / \"Train_300x300\"\n",
    "test_dir = Path(\"data_augmented_2\") / \"Test_300x300\"\n",
    "data = data_transformations(train_dir=train_dir, test_dir=test_dir, model_transforms=model_b1_transforms)\n",
    "train_dataloader, valid_dataloader, test_dataloader_b1 = data.get_dataloaders()\n",
    "\n",
    "weights = data.get_class_weights_inverse_train()\n",
    "device = 'cuda' if torch.cuda.is_available() else 'cpu'\n",
    "loss_fn = nn.CrossEntropyLoss(weight=weights).to(device)\n",
    "optimizer = torch.optim.Adam(params=model_b1_adam.parameters(),lr=0.001, weight_decay=1e-4)\n",
    "\n",
    "model_name = \"efficientnet_b1\"\n",
    "optimizer_name = \"Adam\"\n",
    "results_1 = train_model(model_b1_adam, loss_fn, optimizer, train_dataloader, valid_dataloader, device,experiment_name=f'{model_name}_{optimizer_name}', epochs=10)"
   ]
  },
  {
   "cell_type": "code",
   "execution_count": 10,
   "id": "19b1fdb3",
   "metadata": {},
   "outputs": [
    {
     "name": "stdout",
     "output_type": "stream",
     "text": [
      "Epoch: 0 | Train accuracy: 0.6150 | Train Loss: 0.9312 | Train F1 Score Weighted: 0.606 | Valid accuracy: 0.6405 | Valid Loss: 0.8823 | Valid F1 Score Weighted: 0.600\n",
      "Epoch: 1 | Train accuracy: 0.7262 | Train Loss: 0.6696 | Train F1 Score Weighted: 0.721 | Valid accuracy: 0.7245 | Valid Loss: 0.6803 | Valid F1 Score Weighted: 0.706\n",
      "Epoch: 2 | Train accuracy: 0.7974 | Train Loss: 0.5129 | Train F1 Score Weighted: 0.794 | Valid accuracy: 0.8759 | Valid Loss: 0.3915 | Valid F1 Score Weighted: 0.874\n",
      "Epoch: 3 | Train accuracy: 0.8560 | Train Loss: 0.3946 | Train F1 Score Weighted: 0.853 | Valid accuracy: 0.8011 | Valid Loss: 0.5261 | Valid F1 Score Weighted: 0.779\n",
      "Epoch: 4 | Train accuracy: 0.8915 | Train Loss: 0.3253 | Train F1 Score Weighted: 0.890 | Valid accuracy: 0.7810 | Valid Loss: 0.5482 | Valid F1 Score Weighted: 0.775\n",
      "Epoch: 5 | Train accuracy: 0.9101 | Train Loss: 0.2663 | Train F1 Score Weighted: 0.908 | Valid accuracy: 0.9398 | Valid Loss: 0.1997 | Valid F1 Score Weighted: 0.939\n",
      "Epoch: 6 | Train accuracy: 0.9335 | Train Loss: 0.1998 | Train F1 Score Weighted: 0.932 | Valid accuracy: 0.9471 | Valid Loss: 0.1566 | Valid F1 Score Weighted: 0.946\n",
      "Epoch: 7 | Train accuracy: 0.9467 | Train Loss: 0.1549 | Train F1 Score Weighted: 0.946 | Valid accuracy: 0.9745 | Valid Loss: 0.0960 | Valid F1 Score Weighted: 0.975\n",
      "Epoch: 8 | Train accuracy: 0.9538 | Train Loss: 0.1422 | Train F1 Score Weighted: 0.953 | Valid accuracy: 0.9471 | Valid Loss: 0.1621 | Valid F1 Score Weighted: 0.948\n",
      "Epoch: 9 | Train accuracy: 0.9637 | Train Loss: 0.1185 | Train F1 Score Weighted: 0.963 | Valid accuracy: 0.9745 | Valid Loss: 0.1008 | Valid F1 Score Weighted: 0.975\n"
     ]
    }
   ],
   "source": [
    "#setting up the loss functions and optimizers\n",
    "from torch import nn\n",
    "from src.models.models import train_model\n",
    "from src.models.models import get_efficientnet_b1_model\n",
    "from src.preprocessing.transforms_data import data_transformations\n",
    "from pathlib import Path\n",
    "import torch\n",
    "\n",
    "model_b1_sgd, model_b1_transforms = get_efficientnet_b1_model()\n",
    "\n",
    "train_dir = Path(\"data_augmented_2\") / \"Train_300x300\"\n",
    "test_dir = Path(\"data_augmented_2\") / \"Test_300x300\"\n",
    "data = data_transformations(train_dir=train_dir, test_dir=test_dir, model_transforms=model_b1_transforms)\n",
    "train_dataloader, valid_dataloader, test_dataloader_b1 = data.get_dataloaders()\n",
    "\n",
    "weights = data.get_class_weights_inverse_train()\n",
    "loss_fn = nn.CrossEntropyLoss(weight=weights).to(device)\n",
    "optimizer = torch.optim.SGD(params=model_b1_sgd.parameters(),lr=0.1, weight_decay=1e-4)\n",
    "device = 'cuda' if torch.cuda.is_available() else 'cpu'\n",
    "model_name = \"efficientnet_b1\"\n",
    "optimizer_name = \"SGD\"\n",
    "results_1 = train_model(model_b1_sgd, loss_fn, optimizer, train_dataloader, valid_dataloader, device,experiment_name=f'{model_name}_{optimizer_name}', epochs=10)"
   ]
  },
  {
   "cell_type": "code",
   "execution_count": 11,
   "id": "ae89c321",
   "metadata": {},
   "outputs": [
    {
     "name": "stdout",
     "output_type": "stream",
     "text": [
      "Epoch: 0 | Train accuracy: 0.7586 | Train Loss: 0.6149 | Train F1 Score Weighted: 0.754 | Valid accuracy: 0.8996 | Valid Loss: 0.2717 | Valid F1 Score Weighted: 0.900\n",
      "Epoch: 1 | Train accuracy: 0.9371 | Train Loss: 0.1952 | Train F1 Score Weighted: 0.936 | Valid accuracy: 0.9617 | Valid Loss: 0.1212 | Valid F1 Score Weighted: 0.961\n",
      "Epoch: 2 | Train accuracy: 0.9572 | Train Loss: 0.1384 | Train F1 Score Weighted: 0.956 | Valid accuracy: 0.9653 | Valid Loss: 0.1238 | Valid F1 Score Weighted: 0.965\n",
      "Epoch: 3 | Train accuracy: 0.9671 | Train Loss: 0.1061 | Train F1 Score Weighted: 0.967 | Valid accuracy: 0.9635 | Valid Loss: 0.1408 | Valid F1 Score Weighted: 0.964\n",
      "Epoch: 4 | Train accuracy: 0.9787 | Train Loss: 0.0689 | Train F1 Score Weighted: 0.978 | Valid accuracy: 0.9617 | Valid Loss: 0.1613 | Valid F1 Score Weighted: 0.961\n",
      "Epoch: 5 | Train accuracy: 0.9694 | Train Loss: 0.0928 | Train F1 Score Weighted: 0.969 | Valid accuracy: 0.9635 | Valid Loss: 0.1133 | Valid F1 Score Weighted: 0.963\n",
      "Epoch: 6 | Train accuracy: 0.9702 | Train Loss: 0.1128 | Train F1 Score Weighted: 0.970 | Valid accuracy: 0.9763 | Valid Loss: 0.0549 | Valid F1 Score Weighted: 0.976\n",
      "Epoch: 7 | Train accuracy: 0.9803 | Train Loss: 0.0952 | Train F1 Score Weighted: 0.980 | Valid accuracy: 0.9763 | Valid Loss: 0.0579 | Valid F1 Score Weighted: 0.976\n",
      "Epoch: 8 | Train accuracy: 0.9736 | Train Loss: 0.1045 | Train F1 Score Weighted: 0.973 | Valid accuracy: 0.9708 | Valid Loss: 0.0731 | Valid F1 Score Weighted: 0.970\n",
      "Epoch: 9 | Train accuracy: 0.9878 | Train Loss: 0.0501 | Train F1 Score Weighted: 0.988 | Valid accuracy: 0.9708 | Valid Loss: 0.0739 | Valid F1 Score Weighted: 0.970\n"
     ]
    }
   ],
   "source": [
    "#setting up the loss functions and optimizers\n",
    "from torch import nn\n",
    "from src.models.models import train_model\n",
    "from src.models.models import get_efficientnet_b2_model\n",
    "from src.preprocessing.transforms_data import data_transformations\n",
    "\n",
    "model_b2_adam, model_b2_transforms = get_efficientnet_b2_model()\n",
    "\n",
    "train_dir = Path(\"data_augmented_2\") / \"Train_300x300\"\n",
    "test_dir = Path(\"data_augmented_2\") / \"Test_300x300\"\n",
    "data = data_transformations(train_dir=train_dir, test_dir=test_dir, model_transforms=model_b2_transforms)\n",
    "train_dataloader, valid_dataloader, test_dataloader_b2 = data.get_dataloaders()\n",
    "\n",
    "weights = data.get_class_weights_inverse_train()\n",
    "loss_fn = nn.CrossEntropyLoss(weight=weights).to(device)\n",
    "optimizer = torch.optim.Adam(params=model_b2_adam.parameters(),lr=0.001, weight_decay=1e-4)\n",
    "device = 'cuda' if torch.cuda.is_available() else 'cpu'\n",
    "model_name = \"efficientnet_b2\"\n",
    "optimizer_name = \"Adam\"\n",
    "results_1 = train_model(model_b2_adam, loss_fn, optimizer, train_dataloader, valid_dataloader, device,experiment_name=f'{model_name}_{optimizer_name}', epochs=10)\n"
   ]
  },
  {
   "cell_type": "code",
   "execution_count": 12,
   "id": "fe4dd91d",
   "metadata": {},
   "outputs": [
    {
     "name": "stdout",
     "output_type": "stream",
     "text": [
      "Epoch: 0 | Train accuracy: 0.6836 | Train Loss: 0.7681 | Train F1 Score Weighted: 0.678 | Valid accuracy: 0.6861 | Valid Loss: 0.8263 | Valid F1 Score Weighted: 0.634\n",
      "Epoch: 1 | Train accuracy: 0.8748 | Train Loss: 0.3494 | Train F1 Score Weighted: 0.872 | Valid accuracy: 0.8960 | Valid Loss: 0.3099 | Valid F1 Score Weighted: 0.896\n",
      "Epoch: 2 | Train accuracy: 0.9292 | Train Loss: 0.1963 | Train F1 Score Weighted: 0.928 | Valid accuracy: 0.9653 | Valid Loss: 0.1341 | Valid F1 Score Weighted: 0.965\n",
      "Epoch: 3 | Train accuracy: 0.9596 | Train Loss: 0.1107 | Train F1 Score Weighted: 0.959 | Valid accuracy: 0.9745 | Valid Loss: 0.0889 | Valid F1 Score Weighted: 0.974\n",
      "Epoch: 4 | Train accuracy: 0.9659 | Train Loss: 0.1019 | Train F1 Score Weighted: 0.965 | Valid accuracy: 0.9544 | Valid Loss: 0.1522 | Valid F1 Score Weighted: 0.954\n",
      "Epoch: 5 | Train accuracy: 0.9730 | Train Loss: 0.1011 | Train F1 Score Weighted: 0.973 | Valid accuracy: 0.6880 | Valid Loss: 1.6870 | Valid F1 Score Weighted: 0.648\n",
      "Epoch: 6 | Train accuracy: 0.9657 | Train Loss: 0.1049 | Train F1 Score Weighted: 0.965 | Valid accuracy: 0.9489 | Valid Loss: 0.1897 | Valid F1 Score Weighted: 0.949\n",
      "Epoch: 7 | Train accuracy: 0.9817 | Train Loss: 0.0578 | Train F1 Score Weighted: 0.981 | Valid accuracy: 0.8960 | Valid Loss: 0.3786 | Valid F1 Score Weighted: 0.893\n",
      "Epoch: 8 | Train accuracy: 0.9803 | Train Loss: 0.0604 | Train F1 Score Weighted: 0.980 | Valid accuracy: 0.9781 | Valid Loss: 0.0569 | Valid F1 Score Weighted: 0.978\n",
      "Epoch: 9 | Train accuracy: 0.9856 | Train Loss: 0.0545 | Train F1 Score Weighted: 0.985 | Valid accuracy: 0.8522 | Valid Loss: 0.8838 | Valid F1 Score Weighted: 0.850\n"
     ]
    }
   ],
   "source": [
    "#setting up the loss functions and optimizers\n",
    "from torch import nn\n",
    "from src.models.models import train_model\n",
    "from src.models.models import get_efficientnet_b2_model\n",
    "from src.preprocessing.transforms_data import data_transformations\n",
    "\n",
    "model_b2_sgd, model_b2_transforms = get_efficientnet_b2_model()\n",
    "\n",
    "train_dir = Path(\"data_augmented_2\") / \"Train_300x300\"\n",
    "test_dir = Path(\"data_augmented_2\") / \"Test_300x300\"\n",
    "data = data_transformations(train_dir=train_dir, test_dir=test_dir, model_transforms=model_b2_transforms)\n",
    "train_dataloader, valid_dataloader, test_dataloader_b2 = data.get_dataloaders()\n",
    "\n",
    "weights = data.get_class_weights_inverse_train()\n",
    "device = 'cuda' if torch.cuda.is_available() else 'cpu'\n",
    "loss_fn = nn.CrossEntropyLoss(weight=weights).to(device)\n",
    "optimizer = torch.optim.SGD(params=model_b2_sgd.parameters(),lr=0.1, weight_decay=1e-4)\n",
    "model_name = \"efficientnet_b2\"\n",
    "optimizer_name = \"SGD\"\n",
    "results_1 = train_model(model_b2_sgd, loss_fn, optimizer, train_dataloader, valid_dataloader, device,experiment_name=f'{model_name}_{optimizer_name}', epochs=10)"
   ]
  },
  {
   "cell_type": "code",
   "execution_count": 13,
   "id": "d603a566",
   "metadata": {},
   "outputs": [
    {
     "name": "stdout",
     "output_type": "stream",
     "text": [
      "Epoch: 0 | Train accuracy: 0.7462 | Train Loss: 0.6287 | Train F1 Score Weighted: 0.743 | Valid accuracy: 0.8759 | Valid Loss: 0.3064 | Valid F1 Score Weighted: 0.872\n",
      "Epoch: 1 | Train accuracy: 0.9132 | Train Loss: 0.2596 | Train F1 Score Weighted: 0.912 | Valid accuracy: 0.9562 | Valid Loss: 0.1106 | Valid F1 Score Weighted: 0.955\n",
      "Epoch: 2 | Train accuracy: 0.9471 | Train Loss: 0.1509 | Train F1 Score Weighted: 0.946 | Valid accuracy: 0.9672 | Valid Loss: 0.1068 | Valid F1 Score Weighted: 0.967\n",
      "Epoch: 3 | Train accuracy: 0.9657 | Train Loss: 0.1092 | Train F1 Score Weighted: 0.965 | Valid accuracy: 0.9891 | Valid Loss: 0.0375 | Valid F1 Score Weighted: 0.989\n",
      "Epoch: 4 | Train accuracy: 0.9675 | Train Loss: 0.0963 | Train F1 Score Weighted: 0.967 | Valid accuracy: 0.9781 | Valid Loss: 0.0841 | Valid F1 Score Weighted: 0.978\n",
      "Epoch: 5 | Train accuracy: 0.9783 | Train Loss: 0.0818 | Train F1 Score Weighted: 0.978 | Valid accuracy: 0.9799 | Valid Loss: 0.0616 | Valid F1 Score Weighted: 0.980\n",
      "Epoch: 6 | Train accuracy: 0.9787 | Train Loss: 0.0654 | Train F1 Score Weighted: 0.978 | Valid accuracy: 0.9872 | Valid Loss: 0.0308 | Valid F1 Score Weighted: 0.987\n",
      "Epoch: 7 | Train accuracy: 0.9753 | Train Loss: 0.0854 | Train F1 Score Weighted: 0.975 | Valid accuracy: 0.9854 | Valid Loss: 0.0443 | Valid F1 Score Weighted: 0.986\n",
      "Epoch: 8 | Train accuracy: 0.9801 | Train Loss: 0.0665 | Train F1 Score Weighted: 0.980 | Valid accuracy: 0.9818 | Valid Loss: 0.0484 | Valid F1 Score Weighted: 0.982\n",
      "Epoch: 9 | Train accuracy: 0.9728 | Train Loss: 0.0845 | Train F1 Score Weighted: 0.972 | Valid accuracy: 0.9854 | Valid Loss: 0.0341 | Valid F1 Score Weighted: 0.985\n"
     ]
    }
   ],
   "source": [
    "#setting up the loss functions and optimizers\n",
    "from torch import nn\n",
    "from src.models.models import train_model\n",
    "from src.models.models import get_efficientnet_b3_model\n",
    "from src.preprocessing.transforms_data import data_transformations\n",
    "\n",
    "model_b3_adam, model_b3_transforms = get_efficientnet_b3_model()\n",
    "\n",
    "train_dir = Path(\"data_augmented_2\") / \"Train_300x300\"\n",
    "test_dir = Path(\"data_augmented_2\") / \"Test_300x300\"\n",
    "data = data_transformations(train_dir=train_dir, test_dir=test_dir, model_transforms=model_b3_transforms)\n",
    "train_dataloader, valid_dataloader, test_dataloader_b3 = data.get_dataloaders()\n",
    "\n",
    "weights=data.get_class_weights_inverse_train()\n",
    "device = 'cuda' if torch.cuda.is_available() else 'cpu'\n",
    "loss_fn = nn.CrossEntropyLoss(weight=weights).to(device)\n",
    "optimizer = torch.optim.Adam(params=model_b3_adam.parameters(),lr=0.001, weight_decay=1e-4)\n",
    "model_name = \"efficientnet_b3\"\n",
    "optimizer_name = \"Adam\"\n",
    "results_1 = train_model(model_b3_adam, loss_fn, optimizer, train_dataloader, valid_dataloader, device,experiment_name=f'{model_name}_{optimizer_name}', epochs=10)"
   ]
  },
  {
   "cell_type": "code",
   "execution_count": 14,
   "id": "06007e2f",
   "metadata": {},
   "outputs": [
    {
     "name": "stdout",
     "output_type": "stream",
     "text": [
      "Epoch: 0 | Train accuracy: 0.6333 | Train Loss: 0.8756 | Train F1 Score Weighted: 0.627 | Valid accuracy: 0.6752 | Valid Loss: 0.7865 | Valid F1 Score Weighted: 0.643\n",
      "Epoch: 1 | Train accuracy: 0.7767 | Train Loss: 0.5687 | Train F1 Score Weighted: 0.772 | Valid accuracy: 0.8339 | Valid Loss: 0.4093 | Valid F1 Score Weighted: 0.830\n",
      "Epoch: 2 | Train accuracy: 0.8473 | Train Loss: 0.4069 | Train F1 Score Weighted: 0.845 | Valid accuracy: 0.8376 | Valid Loss: 0.3931 | Valid F1 Score Weighted: 0.829\n",
      "Epoch: 3 | Train accuracy: 0.9018 | Train Loss: 0.2792 | Train F1 Score Weighted: 0.900 | Valid accuracy: 0.8960 | Valid Loss: 0.2670 | Valid F1 Score Weighted: 0.897\n",
      "Epoch: 4 | Train accuracy: 0.9318 | Train Loss: 0.1915 | Train F1 Score Weighted: 0.931 | Valid accuracy: 0.9562 | Valid Loss: 0.1166 | Valid F1 Score Weighted: 0.956\n",
      "Epoch: 5 | Train accuracy: 0.9503 | Train Loss: 0.1405 | Train F1 Score Weighted: 0.950 | Valid accuracy: 0.9580 | Valid Loss: 0.1120 | Valid F1 Score Weighted: 0.957\n",
      "Epoch: 6 | Train accuracy: 0.9560 | Train Loss: 0.1422 | Train F1 Score Weighted: 0.955 | Valid accuracy: 0.6533 | Valid Loss: 1.7826 | Valid F1 Score Weighted: 0.600\n",
      "Epoch: 7 | Train accuracy: 0.9598 | Train Loss: 0.1238 | Train F1 Score Weighted: 0.960 | Valid accuracy: 0.9818 | Valid Loss: 0.0457 | Valid F1 Score Weighted: 0.982\n",
      "Epoch: 8 | Train accuracy: 0.9708 | Train Loss: 0.0945 | Train F1 Score Weighted: 0.970 | Valid accuracy: 0.9069 | Valid Loss: 0.2887 | Valid F1 Score Weighted: 0.908\n",
      "Epoch: 9 | Train accuracy: 0.9692 | Train Loss: 0.0917 | Train F1 Score Weighted: 0.969 | Valid accuracy: 0.9818 | Valid Loss: 0.0520 | Valid F1 Score Weighted: 0.982\n"
     ]
    }
   ],
   "source": [
    "#setting up the loss functions and optimizers\n",
    "from torch import nn\n",
    "from src.models.models import train_model\n",
    "from src.models.models import get_efficientnet_b3_model\n",
    "from src.preprocessing.transforms_data import data_transformations\n",
    "\n",
    "model_b3_sgd, model_b3_transforms = get_efficientnet_b3_model()\n",
    "\n",
    "train_dir = Path(\"data_augmented_2\") / \"Train_300x300\"\n",
    "test_dir = Path(\"data_augmented_2\") / \"Test_300x300\"\n",
    "data = data_transformations(train_dir=train_dir, test_dir=test_dir, model_transforms=model_b3_transforms)\n",
    "train_dataloader, valid_dataloader, test_dataloader_b3 = data.get_dataloaders()\n",
    "\n",
    "weights = data.get_class_weights_inverse_train()\n",
    "loss_fn = nn.CrossEntropyLoss(weight=weights).to(device)\n",
    "optimizer = torch.optim.SGD(params=model_b3_sgd.parameters(),lr=0.1, weight_decay=1e-4)\n",
    "device = 'cuda' if torch.cuda.is_available() else 'cpu'\n",
    "model_name = \"efficientnet_b3\"\n",
    "optimizer_name = \"SGD\"\n",
    "results_1 = train_model(model_b3_sgd, loss_fn, optimizer, train_dataloader, valid_dataloader, device,experiment_name=f'{model_name}_{optimizer_name}', epochs=10)"
   ]
  },
  {
   "cell_type": "code",
   "execution_count": 15,
   "id": "f0ba614b",
   "metadata": {},
   "outputs": [
    {
     "name": "stdout",
     "output_type": "stream",
     "text": [
      "Epoch: 0 | Train accuracy: 0.6876 | Train Loss: 0.7632 | Train F1 Score Weighted: 0.682 | Valid accuracy: 0.7938 | Valid Loss: 0.4827 | Valid F1 Score Weighted: 0.781\n",
      "Epoch: 1 | Train accuracy: 0.8635 | Train Loss: 0.3661 | Train F1 Score Weighted: 0.861 | Valid accuracy: 0.9215 | Valid Loss: 0.1969 | Valid F1 Score Weighted: 0.920\n",
      "Epoch: 2 | Train accuracy: 0.9262 | Train Loss: 0.2100 | Train F1 Score Weighted: 0.925 | Valid accuracy: 0.9215 | Valid Loss: 0.2075 | Valid F1 Score Weighted: 0.922\n",
      "Epoch: 3 | Train accuracy: 0.9525 | Train Loss: 0.1437 | Train F1 Score Weighted: 0.952 | Valid accuracy: 0.9617 | Valid Loss: 0.0963 | Valid F1 Score Weighted: 0.962\n",
      "Epoch: 4 | Train accuracy: 0.9570 | Train Loss: 0.1297 | Train F1 Score Weighted: 0.956 | Valid accuracy: 0.9836 | Valid Loss: 0.0605 | Valid F1 Score Weighted: 0.984\n",
      "Epoch: 5 | Train accuracy: 0.9586 | Train Loss: 0.1097 | Train F1 Score Weighted: 0.958 | Valid accuracy: 0.9580 | Valid Loss: 0.1197 | Valid F1 Score Weighted: 0.958\n",
      "Epoch: 6 | Train accuracy: 0.9708 | Train Loss: 0.0944 | Train F1 Score Weighted: 0.970 | Valid accuracy: 0.9726 | Valid Loss: 0.0874 | Valid F1 Score Weighted: 0.972\n",
      "Epoch: 7 | Train accuracy: 0.9653 | Train Loss: 0.1096 | Train F1 Score Weighted: 0.965 | Valid accuracy: 0.9763 | Valid Loss: 0.0714 | Valid F1 Score Weighted: 0.976\n",
      "Epoch: 8 | Train accuracy: 0.9706 | Train Loss: 0.0802 | Train F1 Score Weighted: 0.970 | Valid accuracy: 0.9726 | Valid Loss: 0.0873 | Valid F1 Score Weighted: 0.973\n",
      "Epoch: 9 | Train accuracy: 0.9746 | Train Loss: 0.0780 | Train F1 Score Weighted: 0.974 | Valid accuracy: 0.9726 | Valid Loss: 0.0781 | Valid F1 Score Weighted: 0.973\n"
     ]
    }
   ],
   "source": [
    "#setting up the loss functions and optimizers\n",
    "from torch import nn\n",
    "from src.models.models import train_model\n",
    "from src.models.models import get_efficientnet_b4_model\n",
    "from src.preprocessing.transforms_data import data_transformations\n",
    "\n",
    "model_b4_adam, model_b4_transforms = get_efficientnet_b4_model()\n",
    "\n",
    "train_dir = Path(\"data_augmented_2\") / \"Train_300x300\"\n",
    "test_dir = Path(\"data_augmented_2\") / \"Test_300x300\"\n",
    "data = data_transformations(train_dir=train_dir, test_dir=test_dir, model_transforms=model_b4_transforms)\n",
    "train_dataloader, valid_dataloader, test_dataloader_b4 = data.get_dataloaders()\n",
    "\n",
    "weights = data.get_class_weights_inverse_train()\n",
    "device = 'cuda' if torch.cuda.is_available() else 'cpu'\n",
    "loss_fn = nn.CrossEntropyLoss(weight=weights).to(device)\n",
    "optimizer = torch.optim.Adam(params=model_b4_adam.parameters(),lr=0.001, weight_decay=1e-4)\n",
    "model_name = \"efficientnet_b4\"\n",
    "optimizer_name = \"Adam\"\n",
    "results_1= train_model(model_b4_adam, loss_fn, optimizer, train_dataloader, valid_dataloader, device,experiment_name=f'{model_name}_{optimizer_name}', epochs=10)"
   ]
  },
  {
   "cell_type": "code",
   "execution_count": 16,
   "id": "64049222",
   "metadata": {},
   "outputs": [
    {
     "name": "stdout",
     "output_type": "stream",
     "text": [
      "Epoch: 0 | Train accuracy: 0.5546 | Train Loss: 1.0916 | Train F1 Score Weighted: 0.547 | Valid accuracy: 0.4763 | Valid Loss: 2.5468 | Valid F1 Score Weighted: 0.320\n",
      "Epoch: 1 | Train accuracy: 0.6394 | Train Loss: 0.8881 | Train F1 Score Weighted: 0.628 | Valid accuracy: 0.5073 | Valid Loss: 0.9658 | Valid F1 Score Weighted: 0.441\n",
      "Epoch: 2 | Train accuracy: 0.6817 | Train Loss: 0.7790 | Train F1 Score Weighted: 0.675 | Valid accuracy: 0.7208 | Valid Loss: 0.7190 | Valid F1 Score Weighted: 0.715\n",
      "Epoch: 3 | Train accuracy: 0.7136 | Train Loss: 0.7297 | Train F1 Score Weighted: 0.708 | Valid accuracy: 0.6296 | Valid Loss: 1.0192 | Valid F1 Score Weighted: 0.598\n",
      "Epoch: 4 | Train accuracy: 0.7272 | Train Loss: 0.6977 | Train F1 Score Weighted: 0.721 | Valid accuracy: 0.7664 | Valid Loss: 0.6420 | Valid F1 Score Weighted: 0.756\n",
      "Epoch: 5 | Train accuracy: 0.7521 | Train Loss: 0.6367 | Train F1 Score Weighted: 0.747 | Valid accuracy: 0.7391 | Valid Loss: 0.6253 | Valid F1 Score Weighted: 0.736\n",
      "Epoch: 6 | Train accuracy: 0.7716 | Train Loss: 0.5797 | Train F1 Score Weighted: 0.768 | Valid accuracy: 0.7536 | Valid Loss: 0.5923 | Valid F1 Score Weighted: 0.736\n",
      "Epoch: 7 | Train accuracy: 0.7793 | Train Loss: 0.5527 | Train F1 Score Weighted: 0.775 | Valid accuracy: 0.7901 | Valid Loss: 0.5420 | Valid F1 Score Weighted: 0.784\n",
      "Epoch: 8 | Train accuracy: 0.7943 | Train Loss: 0.5200 | Train F1 Score Weighted: 0.791 | Valid accuracy: 0.8120 | Valid Loss: 0.5213 | Valid F1 Score Weighted: 0.802\n",
      "Epoch: 9 | Train accuracy: 0.7988 | Train Loss: 0.5241 | Train F1 Score Weighted: 0.796 | Valid accuracy: 0.8212 | Valid Loss: 0.5142 | Valid F1 Score Weighted: 0.819\n"
     ]
    }
   ],
   "source": [
    "#setting up the loss functions and optimizers\n",
    "from torch import nn\n",
    "from src.models.models import train_model\n",
    "from src.models.models import get_efficientnet_b4_model\n",
    "from src.preprocessing.transforms_data import data_transformations\n",
    "\n",
    "model_b4_sgd, model_b4_transforms = get_efficientnet_b4_model()\n",
    "\n",
    "train_dir = Path(\"data_augmented_2\") / \"Train_300x300\"\n",
    "test_dir = Path(\"data_augmented_2\") / \"Test_300x300\"\n",
    "data = data_transformations(train_dir=train_dir, test_dir=test_dir, model_transforms=model_b4_transforms)\n",
    "train_dataloader, valid_dataloader, test_dataloader_b4 = data.get_dataloaders()\n",
    "\n",
    "weights = data.get_class_weights_inverse_train()\n",
    "device = 'cuda' if torch.cuda.is_available() else 'cpu'\n",
    "loss_fn = nn.CrossEntropyLoss(weight=weights).to(device)\n",
    "optimizer = torch.optim.SGD(params=model_b4_sgd.parameters(),lr=0.1, weight_decay=1e-4)\n",
    "\n",
    "model_name = \"efficientnet_b4\"\n",
    "optimizer_name = \"SGD\"\n",
    "results_1 = train_model(model_b4_sgd, loss_fn, optimizer, train_dataloader, valid_dataloader, device,experiment_name=f'{model_name}_{optimizer_name}', epochs=10)"
   ]
  },
  {
   "cell_type": "code",
   "execution_count": 17,
   "id": "b3f74e90",
   "metadata": {},
   "outputs": [
    {
     "data": {
      "text/plain": [
       "UniqueCountsResult(values=array([0, 1, 2, 3]), counts=array([13, 23, 50,  9]))"
      ]
     },
     "execution_count": 17,
     "metadata": {},
     "output_type": "execute_result"
    }
   ],
   "source": [
    "import numpy as np\n",
    "np.unique_counts(test_dataloader_b0.dataset.targets)"
   ]
  },
  {
   "cell_type": "code",
   "execution_count": 18,
   "id": "c54cc2c1",
   "metadata": {},
   "outputs": [
    {
     "name": "stdout",
     "output_type": "stream",
     "text": [
      "saving model to trained_models\\efficientnet_b0_adam.pth\n",
      "saving model to trained_models\\efficientnet_b0_sgd.pth\n",
      "saving model to trained_models\\efficientnet_b1_adam.pth\n",
      "saving model to trained_models\\efficientnet_b1_sgd.pth\n",
      "saving model to trained_models\\efficientnet_b2_adam.pth\n",
      "saving model to trained_models\\efficientnet_b2_sgd.pth\n",
      "saving model to trained_models\\efficientnet_b3_adam.pth\n",
      "saving model to trained_models\\efficientnet_b3_sgd.pth\n",
      "saving model to trained_models\\efficientnet_b4_adam.pth\n",
      "saving model to trained_models\\efficientnet_b4_sgd.pth\n"
     ]
    }
   ],
   "source": [
    "# combining the models\n",
    "\n",
    "models_to_save = [model_b0_adam, model_b0_sgd, model_b1_adam, model_b1_sgd, model_b2_adam, model_b2_sgd, model_b3_adam, model_b3_sgd, model_b4_adam, model_b4_sgd]\n",
    "model_names = ['efficientnet_b0_adam.pth', 'efficientnet_b0_sgd.pth','efficientnet_b1_adam.pth', 'efficientnet_b1_sgd.pth','efficientnet_b2_adam.pth','efficientnet_b2_sgd.pth' ,'efficientnet_b3_adam.pth','efficientnet_b3_sgd.pth', 'efficientnet_b4_adam.pth','efficientnet_b4_sgd.pth']\n",
    "model_path = Path(\"trained_models\")\n",
    "model_path.mkdir(parents=True, exist_ok=True)\n",
    "for name, model in zip(model_names, models_to_save):\n",
    "    model_save_path = model_path / name\n",
    "    print(f\"saving model to {model_save_path}\")\n",
    "    torch.save(obj=model.state_dict(),\n",
    "               f=model_save_path)\n",
    "\n"
   ]
  },
  {
   "cell_type": "code",
   "execution_count": 19,
   "id": "2e8a23a4",
   "metadata": {},
   "outputs": [
    {
     "data": {
      "text/plain": [
       "(4930, 548, 95)"
      ]
     },
     "execution_count": 19,
     "metadata": {},
     "output_type": "execute_result"
    }
   ],
   "source": [
    "len(train_dataloader.dataset), len(valid_dataloader.dataset), len(test_dataloader_b0.dataset)"
   ]
  },
  {
   "cell_type": "code",
   "execution_count": 20,
   "id": "8130c7dd",
   "metadata": {},
   "outputs": [
    {
     "name": "stdout",
     "output_type": "stream",
     "text": [
      "Number of samples where no majority was found (output -5): 0\n",
      "Ensemble accuracy with majority vote and confidence threshold: 0.7158\n"
     ]
    }
   ],
   "source": [
    "import numpy as np\n",
    "import torch\n",
    "\n",
    "# Assuming models and test_dataloaders are already defined\n",
    "test_dataloaders = [test_dataloader_b0, test_dataloader_b0,\n",
    "                    test_dataloader_b1, test_dataloader_b1,\n",
    "                    test_dataloader_b2, test_dataloader_b2,\n",
    "                    test_dataloader_b3, test_dataloader_b3,\n",
    "                    test_dataloader_b4, test_dataloader_b4]\n",
    "\n",
    "# Step 1: Get all true labels from one of the dataloaders\n",
    "# It's assumed all dataloaders have the same data and labels.\n",
    "test_labels_list = []\n",
    "for _, y in test_dataloaders[0]:\n",
    "    test_labels_list.extend(y.cpu().numpy())\n",
    "test_labels = np.array(test_labels_list)\n",
    "\n",
    "# Step 2: Get predictions from all models\n",
    "all_predictions = []\n",
    "for model, test_loader in zip(models_to_save, test_dataloaders):\n",
    "    model_predictions = []\n",
    "    model.eval()\n",
    "    for images, _ in test_loader:\n",
    "        # Move images to the correct device (e.g., 'cuda')\n",
    "        images = images.to(device)\n",
    "        with torch.no_grad():\n",
    "            outputs = model(images)\n",
    "            predicted = torch.argmax(outputs, dim=1)\n",
    "            model_predictions.extend(predicted.cpu().numpy())\n",
    "    all_predictions.append(model_predictions)\n",
    "\n",
    "# Convert to numpy array\n",
    "all_predictions = np.array(all_predictions)\n",
    "\n",
    "# Step 3: Implement the majority vote with the new condition\n",
    "final_predictions = np.empty_like(test_labels, dtype=int)\n",
    "\n",
    "for i in range(all_predictions.shape[1]):\n",
    "    # Get all predictions for the i-th sample\n",
    "    sample_preds = all_predictions[:, i]\n",
    "    # Count the occurrences of each unique prediction\n",
    "    counts = np.bincount(sample_preds)\n",
    "    # Find the predicted class (the one with the highest count)\n",
    "    majority_vote = np.argmax(counts)\n",
    "    # Find the number of votes for that class\n",
    "    vote_count = counts[majority_vote]\n",
    "\n",
    "    if vote_count > 3:\n",
    "        final_predictions[i] = majority_vote\n",
    "    else:\n",
    "        final_predictions[i] = -5\n",
    "\n",
    "# Step 4: Calculate accuracy, ignoring the -5 predictions\n",
    "# Only count samples where a majority was found\n",
    "mask = final_predictions != -5\n",
    "if np.sum(mask) > 0:\n",
    "    correct_predictions = (final_predictions[mask] == test_labels[mask]).sum()\n",
    "    total_samples = np.sum(mask)\n",
    "    ensemble_accuracy = correct_predictions / total_samples\n",
    "else:\n",
    "    ensemble_accuracy = 0.0\n",
    "\n",
    "print(f\"Number of samples where no majority was found (output -5): {len(final_predictions) - np.sum(mask)}\")\n",
    "print(f\"Ensemble accuracy with majority vote and confidence threshold: {ensemble_accuracy:.4f}\")"
   ]
  },
  {
   "cell_type": "code",
   "execution_count": 21,
   "id": "5ee6e9f8",
   "metadata": {},
   "outputs": [
    {
     "data": {
      "text/plain": [
       "array([0, 0, 0, 0, 0, 0, 0, 0, 0, 1, 1, 0, 0, 0, 0, 2, 0, 0, 1, 0, 1, 1,\n",
       "       1, 1, 1, 0, 1, 1, 1, 1, 1, 0, 1, 1, 1, 0, 2, 2, 2, 2, 2, 2, 0, 2,\n",
       "       1, 1, 2, 2, 2, 1, 1, 1, 2, 2, 1, 2, 2, 1, 2, 2, 3, 0, 1, 2, 2, 2,\n",
       "       2, 2, 2, 2, 2, 2, 2, 2, 2, 2, 2, 2, 2, 3, 2, 2, 2, 2, 2, 2, 2, 2,\n",
       "       3, 3, 3, 3, 2, 3, 2])"
      ]
     },
     "execution_count": 21,
     "metadata": {},
     "output_type": "execute_result"
    }
   ],
   "source": [
    "final_predictions"
   ]
  },
  {
   "cell_type": "code",
   "execution_count": 22,
   "id": "6705521a",
   "metadata": {},
   "outputs": [
    {
     "name": "stdout",
     "output_type": "stream",
     "text": [
      "0.6\n",
      "0.6\n",
      "0.6210526315789474\n",
      "0.7157894736842105\n",
      "0.6631578947368421\n",
      "0.5157894736842106\n",
      "0.7052631578947368\n",
      "0.7052631578947368\n",
      "0.6947368421052632\n",
      "0.6421052631578947\n"
     ]
    }
   ],
   "source": [
    "import numpy as np\n",
    "import torch\n",
    "\n",
    "# Assuming models and test_dataloaders are already defined\n",
    "test_dataloaders = [test_dataloader_b0, test_dataloader_b0,\n",
    "                    test_dataloader_b1, test_dataloader_b1,\n",
    "                    test_dataloader_b2, test_dataloader_b2,\n",
    "                    test_dataloader_b3, test_dataloader_b3,\n",
    "                    test_dataloader_b4, test_dataloader_b4]\n",
    "\n",
    "# Step 1: Get all true labels from one of the dataloaders\n",
    "# It's assumed all dataloaders have the same data and labels.\n",
    "test_labels_list = []\n",
    "for _, y in test_dataloaders[0]:\n",
    "    test_labels_list.extend(y.cpu().numpy())\n",
    "test_labels = np.array(test_labels_list)\n",
    "\n",
    "# Step 2: Get predictions from all models\n",
    "\n",
    "for model, test_loader in zip(models_to_save, test_dataloaders):\n",
    "    model_predictions = []\n",
    "    model.eval()\n",
    "    for images, _ in test_loader:\n",
    "        # Move images to the correct device (e.g., 'cuda')\n",
    "        images = images.to(device)\n",
    "        with torch.no_grad():\n",
    "            outputs = model(images)\n",
    "            predicted = torch.argmax(outputs, dim=1)\n",
    "            model_predictions.extend(predicted.cpu().numpy())\n",
    "    \n",
    "    print(f\"{(model_predictions==test_labels).sum()/len(test_labels)}\")"
   ]
  },
  {
   "cell_type": "code",
   "execution_count": 23,
   "id": "1c7737c4",
   "metadata": {},
   "outputs": [
    {
     "data": {
      "image/png": "[encoded data removed]",
      "text/plain": [
       "<Figure size 640x480 with 1 Axes>"
      ]
     },
     "metadata": {},
     "output_type": "display_data"
    }
   ],
   "source": [
    "from torcheval.metrics.functional import multiclass_confusion_matrix\n",
    "from mlxtend.plotting import plot_confusion_matrix\n",
    "import matplotlib.pyplot as plt\n",
    "\n",
    "confmat = multiclass_confusion_matrix(input=torch.tensor(test_labels),\n",
    "                                      target=torch.tensor(final_predictions),\n",
    "                                      num_classes=4)\n",
    "plot_confusion_matrix(conf_mat=confmat.cpu().numpy())\n",
    "plt.show()\n"
   ]
  },
  {
   "cell_type": "code",
   "execution_count": 30,
   "id": "2241f628",
   "metadata": {},
   "outputs": [
    {
     "data": {
      "text/plain": [
       "array([13, 23, 50,  9])"
      ]
     },
     "execution_count": 30,
     "metadata": {},
     "output_type": "execute_result"
    }
   ],
   "source": [
    "np.bincount(test_labels)"
   ]
  },
  {
   "cell_type": "code",
   "execution_count": 24,
   "id": "6a19c92d",
   "metadata": {},
   "outputs": [
    {
     "data": {
      "text/plain": [
       "array([[11,  8,  2,  0],\n",
       "       [ 2, 14,  8,  0],\n",
       "       [ 0,  1, 38,  4],\n",
       "       [ 0,  0,  2,  5]])"
      ]
     },
     "execution_count": 24,
     "metadata": {},
     "output_type": "execute_result"
    }
   ],
   "source": [
    "confmat.cpu().numpy()"
   ]
  },
  {
   "cell_type": "code",
   "execution_count": null,
   "id": "43d2dbdf",
   "metadata": {},
   "outputs": [],
   "source": [
    "all_predictions"
   ]
  },
  {
   "cell_type": "code",
   "execution_count": null,
   "id": "bb1b298a",
   "metadata": {},
   "outputs": [],
   "source": [
    "for model in models_to_save:\n",
    "    print(f\"{len(list(model.classifier.parameters())) + len(list(model.features[7:].parameters()))}\")"
   ]
  },
  {
   "cell_type": "code",
   "execution_count": null,
   "id": "d451bd93",
   "metadata": {},
   "outputs": [],
   "source": [
    "len(model_b0_adam.features), len(model_b1_adam.features), len(model_b2_adam.features), len(model_b3_adam.features), len(model_b4_adam.features)"
   ]
  },
  {
   "cell_type": "code",
   "execution_count": null,
   "id": "5ee09ddf",
   "metadata": {},
   "outputs": [],
   "source": [
    "len(list(model_b0_adam.features[7:].parameters())), len(list(model_b1_adam.features[7:].parameters())), len(list(model_b2_adam.features[7:].parameters())), len(list(model_b3_adam.features[7:].parameters())), len(list(model_b4_adam.features[7:].parameters()))"
   ]
  },
  {
   "cell_type": "markdown",
   "id": "4f2457e7",
   "metadata": {},
   "source": [
    "## with no training"
   ]
  },
  {
   "cell_type": "code",
   "execution_count": null,
   "id": "18b07e40",
   "metadata": {},
   "outputs": [],
   "source": [
    "import numpy as np\n",
    "import torch\n",
    "from pathlib import Path\n",
    "from src.models.models import get_efficientnet_b0_model, get_efficientnet_b1_model, get_efficientnet_b2_model, get_efficientnet_b3_model, get_efficientnet_b4_model\n",
    "from src.preprocessing.transforms_data import data_transformations\n",
    "\n",
    "train_dir = Path(\"data\") / \"Train_300x300\"\n",
    "test_dir = Path(\"data\") / \"Test_300x300\"\n",
    "\n",
    "model_b0_adam, model_b0_transforms = get_efficientnet_b0_model()\n",
    "data = data_transformations(train_dir=train_dir, test_dir=test_dir, model_transforms=model_b0_transforms)\n",
    "train_dataloader, valid_dataloader, test_dataloader_b0 = data.get_dataloaders()\n",
    "\n",
    "model_b1_adam, model_b1_transforms = get_efficientnet_b1_model()\n",
    "data = data_transformations(train_dir=train_dir, test_dir=test_dir, model_transforms=model_b1_transforms)\n",
    "train_dataloader, valid_dataloader, test_dataloader_b1 = data.get_dataloaders()\n",
    "\n",
    "model_b2_adam, model_b2_transforms =  get_efficientnet_b2_model()\n",
    "data = data_transformations(train_dir=train_dir, test_dir=test_dir, model_transforms=model_b2_transforms)\n",
    "train_dataloader, valid_dataloader, test_dataloader_b2 = data.get_dataloaders()\n",
    "\n",
    "model_b3_adam, model_b3_transforms = get_efficientnet_b3_model()\n",
    "data = data_transformations(train_dir=train_dir, test_dir=test_dir, model_transforms=model_b3_transforms)\n",
    "train_dataloader, valid_dataloader, test_dataloader_b3 = data.get_dataloaders()\n",
    "\n",
    "model_b4_adam, model_b4_transforms = get_efficientnet_b4_model()\n",
    "data = data_transformations(train_dir=train_dir, test_dir=test_dir, model_transforms=model_b4_transforms)\n",
    "train_dataloader, valid_dataloader, test_dataloader_b4 = data.get_dataloaders()\n",
    "\n",
    "\n",
    "models = [model_b0_adam, model_b1_adam, model_b2_adam, model_b3_adam, model_b4_adam]\n",
    "test_dataloaders = [test_dataloader_b0, test_dataloader_b1, test_dataloader_b2, test_dataloader_b3, test_dataloader_b4]\n",
    "\n",
    "test_labels=[]\n",
    "for X, y in test_dataloader_b0:\n",
    "    test_labels.extend(y.cpu().numpy())\n",
    "    \n",
    "test_labels = np.array([x.item() for x in test_labels])\n",
    "\n",
    "\n",
    "all_predictions = []\n",
    "for model, test_loader in zip(models, test_dataloaders):\n",
    "    model.to(device)\n",
    "    model_predictions=[]\n",
    "    model.eval()\n",
    "    for X, y in test_loader:\n",
    "        X, y = X.to(device), y.to(device)\n",
    "        with torch.no_grad():\n",
    "            pred_logits = model(X)\n",
    "            y_preds = torch.argmax(pred_logits, dim=1)\n",
    "            model_predictions.extend(y_preds.cpu().numpy())\n",
    "            \n",
    "    all_predictions.append(model_predictions)\n",
    "\n",
    "# Convert to numpy array for easier manipulation\n",
    "# Shape will be (num_models, num_samples)\n",
    "all_predictions = np.array(all_predictions)\n",
    "\n",
    "# Step 3 & 4: Perform Majority Vote\n",
    "# This finds the mode (most frequent value) for each column (each sample)\n",
    "final_predictions = np.apply_along_axis(lambda x: np.bincount(x).argmax(), axis=0, arr=all_predictions)\n",
    "\n",
    "# # Step 5: Calculate Accuracy\n",
    "correct_predictions = (final_predictions == test_labels).sum()\n",
    "total_samples = len(test_labels)\n",
    "ensemble_accuracy = correct_predictions / total_samples\n",
    "\n",
    "\n",
    "print(f\"Ensemble accuracy with majority vote: {ensemble_accuracy:.4f}\")"
   ]
  },
  {
   "cell_type": "code",
   "execution_count": null,
   "id": "7e3d123d",
   "metadata": {},
   "outputs": [],
   "source": [
    "next(iter(test_dataloader_b0))[0][0].shape"
   ]
  }
 ],
 "metadata": {
  "kernelspec": {
   "display_name": "Python 3",
   "language": "python",
   "name": "python3"
  },
  "language_info": {
   "codemirror_mode": {
    "name": "ipython",
    "version": 3
   },
   "file_extension": ".py",
   "mimetype": "text/x-python",
   "name": "python",
   "nbconvert_exporter": "python",
   "pygments_lexer": "ipython3",
   "version": "3.11.0"
  }
 },
 "nbformat": 4,
 "nbformat_minor": 5
}
